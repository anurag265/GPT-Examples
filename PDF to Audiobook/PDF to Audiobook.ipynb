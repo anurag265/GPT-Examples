{
 "cells": [
  {
   "cell_type": "markdown",
   "id": "7c21e14f",
   "metadata": {},
   "source": [
    "### Installing Required Libraries\n",
    "\n",
    "This cell handles the installation of libraries necessary for the PDF to audio conversion process:\n",
    "\n",
    "- `pdfplumber`: A Python library for reading and extracting data from PDFs, crucial for accessing the text content within the PDF file.\n",
    "- `openai`: The OpenAI Python library, used here for its text-to-speech capabilities, allowing us to convert extracted text into audio.\n",
    "- `pydub`: A Python library for audio manipulation, which will be used for combining audio files if needed.\n",
    "- `moviepy`: An optional library for video editing tasks, which can also handle audio files, offering additional audio processing capabilities if required."
   ]
  },
  {
   "cell_type": "code",
   "execution_count": null,
   "id": "766c63c0",
   "metadata": {},
   "outputs": [],
   "source": [
    "# Install the pdfplumber library for extracting text from PDF files\n",
    "!pip install pdfplumber\n",
    "\n",
    "# Install the openai library to use OpenAI's text-to-speech API\n",
    "!pip install openai\n",
    "\n",
    "# Install pydub for audio file manipulation (like combining audio files)\n",
    "!pip install pydub\n",
    "\n",
    "# Optional: Install moviepy for advanced audio/video processing tasks\n",
    "!pip install moviepy\n"
   ]
  },
  {
   "cell_type": "markdown",
   "id": "6509e2e7",
   "metadata": {},
   "source": [
    "### Extracting Text from PDF and Formatting as Markdown\n",
    "\n",
    "This cell defines the `pdf_to_markdown` function, which is used to extract text from a PDF file and format it in Markdown. The process involves:\n",
    "\n",
    "1. Opening the PDF file using `pdfplumber`, which allows us to access its content.\n",
    "2. Iterating through each page of the PDF.\n",
    "3. Extracting text from each page.\n",
    "4. Applying basic Markdown formatting to the text for better readability. This includes adding double newlines for new paragraphs and a separator line between pages.\n",
    "\n",
    "The function takes the path of the PDF file as an input and returns the formatted text. An example usage is shown at the end of the cell, where the function is called with a specified PDF file path, and the output is printed."
   ]
  },
  {
   "cell_type": "code",
   "execution_count": null,
   "id": "a0e72910",
   "metadata": {
    "scrolled": true
   },
   "outputs": [],
   "source": [
    "# Importing the pdfplumber library for PDF text extraction\n",
    "import pdfplumber\n",
    "\n",
    "def pdf_to_markdown(pdf_path):\n",
    "    # Open the PDF file at the given path\n",
    "    with pdfplumber.open(pdf_path) as pdf:\n",
    "        markdown_content = \"\"\n",
    "        # Loop through each page in the PDF\n",
    "        for page in pdf.pages:\n",
    "            # Extract text from each page\n",
    "            text = page.extract_text()\n",
    "            if text:\n",
    "                # Format the text with basic Markdown: double newline for new paragraphs\n",
    "                markdown_page = text.replace('\\n', '\\n\\n')\n",
    "                # Add a separator line between pages\n",
    "                markdown_content += markdown_page + '\\n\\n---\\n\\n'\n",
    "\n",
    "        return markdown_content"
   ]
  },
  {
   "cell_type": "code",
   "execution_count": null,
   "id": "e114959d",
   "metadata": {},
   "outputs": [],
   "source": [
    "# Function Usage\n",
    "pdf_path = 'Kant_What_is_Enlightenment.pdf'  # Replace with the actual PDF file path\n",
    "markdown_text = pdf_to_markdown(pdf_path)\n",
    "print(markdown_text)  # Print the extracted and formatted text"
   ]
  },
  {
   "cell_type": "markdown",
   "id": "2774f62a",
   "metadata": {},
   "source": [
    "### Converting Markdown to Plain Text\n",
    "\n",
    "This cell introduces the `markdown_to_plain_text` function, which is designed to convert Markdown-formatted text into plain text. The function utilizes regular expressions (regex) to achieve this, working as follows:\n",
    "\n",
    "1. Identify and remove Markdown URL syntax, leaving only the link text.\n",
    "2. Strip out bold (`**`) and italic (`*` or `_`) Markdown formatting.\n",
    "3. Remove Markdown headers, list item symbols, and blockquote symbols.\n",
    "\n",
    "The purpose of this function is to clean the extracted text from any Markdown formatting, making it suitable for speech synthesis in the next steps. An example usage is demonstrated at the end of the cell, converting previously formatted Markdown text into plain text and printing the result.\n"
   ]
  },
  {
   "cell_type": "code",
   "execution_count": null,
   "id": "2c62e9f3",
   "metadata": {
    "scrolled": true
   },
   "outputs": [],
   "source": [
    "# Importing the 're' module for regular expression operations\n",
    "import re\n",
    "\n",
    "def markdown_to_plain_text(markdown_text):\n",
    "    # Remove Markdown URL syntax ([text](link)) and keep only the text\n",
    "    text = re.sub(r'\\[([^\\]]+)\\]\\([^\\)]+\\)', r'\\1', markdown_text)\n",
    "\n",
    "    # Remove Markdown formatting for bold and italic text\n",
    "    text = re.sub(r'\\*\\*([^*]+)\\*\\*', r'\\1', text)  # Bold with **\n",
    "    text = re.sub(r'\\*([^*]+)\\*', r'\\1', text)      # Italic with *\n",
    "    text = re.sub(r'\\_\\_([^_]+)\\_\\_', r'\\1', text)  # Bold with __\n",
    "    text = re.sub(r'\\_([^_]+)\\_', r'\\1', text)      # Italic with _\n",
    "\n",
    "    # Remove Markdown headers, list items, and blockquote symbols\n",
    "    text = re.sub(r'#+\\s?', '', text)  # Headers\n",
    "    text = re.sub(r'-\\s?', '', text)   # List items\n",
    "    text = re.sub(r'>\\s?', '', text)   # Blockquotes\n",
    "\n",
    "    return text"
   ]
  },
  {
   "cell_type": "code",
   "execution_count": null,
   "id": "05d1d8c9",
   "metadata": {},
   "outputs": [],
   "source": [
    "# Function Usage\n",
    "plain_text = markdown_to_plain_text(markdown_text)\n",
    "print(plain_text)  # Printing the converted plain text"
   ]
  },
  {
   "cell_type": "markdown",
   "id": "26822c67",
   "metadata": {},
   "source": [
    "### Final Text Cleaning\n",
    "\n",
    "This cell is dedicated to further cleaning the plain text extracted from the PDF. In some cases, the text conversion process may leave behind unwanted artifacts or specific words that are not relevant or desirable for the final audio output. This step allows for the removal of such elements. \n",
    "\n",
    "The cell demonstrates how to remove a specific word or artifact from the text. In this example, any occurrences of the word \"artifact\" are being removed from the text. This approach can be adapted to target and remove any other specific words or symbols that might be present in the text after the initial conversion and formatting steps.\n"
   ]
  },
  {
   "cell_type": "code",
   "execution_count": null,
   "id": "fcbb09e3",
   "metadata": {},
   "outputs": [],
   "source": [
    "# Further cleaning of the plain text\n",
    "# Here, we are removing a specific unwanted word or artifact from the text\n",
    "# Replace \"artifact\" with any specific word or symbol you need to remove\n",
    "cleaned_text = plain_text.replace(\"artifact\", \"\")\n",
    "\n",
    "# Printing the cleaned text to verify the changes\n",
    "print(cleaned_text)\n"
   ]
  },
  {
   "cell_type": "markdown",
   "id": "3f923371",
   "metadata": {},
   "source": [
    "### Splitting Text into Manageable Chunks for Text-to-Speech\n",
    "\n",
    "Given the character limit of 4096 for the OpenAI text-to-speech API, this cell contains a function named `split_text` designed to divide the cleaned text into smaller chunks. Each chunk adheres to the maximum character limit, ensuring compatibility with the API. The process is as follows:\n",
    "\n",
    "1. The function splits the text into sentences.\n",
    "2. It then iteratively adds sentences to a chunk until adding another sentence would exceed the character limit.\n",
    "3. Once the limit is near, the current chunk is saved, and a new chunk starts with the next sentence.\n",
    "4. This process continues until all sentences are allocated to chunks.\n",
    "\n",
    "The function takes the whole text and an optional `max_chunk_size` parameter (defaulted to 4096 characters) as inputs. The output is a list of text chunks, each within the specified character limit. An example usage is provided, demonstrating how the text is split and then printing each chunk with its number for easy identification.\n"
   ]
  },
  {
   "cell_type": "code",
   "execution_count": null,
   "id": "7f46f061",
   "metadata": {},
   "outputs": [],
   "source": [
    "def split_text(text, max_chunk_size=4096):\n",
    "    chunks = []  # List to hold the chunks of text\n",
    "    current_chunk = \"\"  # String to build the current chunk\n",
    "\n",
    "    # Split the text into sentences and iterate through them\n",
    "    for sentence in text.split('.'):\n",
    "        sentence = sentence.strip()  # Remove leading/trailing whitespaces\n",
    "        if not sentence:\n",
    "            continue  # Skip empty sentences\n",
    "\n",
    "        # Check if adding the sentence would exceed the max chunk size\n",
    "        if len(current_chunk) + len(sentence) + 1 <= max_chunk_size:\n",
    "            current_chunk += sentence + \".\"  # Add sentence to current chunk\n",
    "        else:\n",
    "            chunks.append(current_chunk)  # Add the current chunk to the list\n",
    "            current_chunk = sentence + \".\"  # Start a new chunk\n",
    "\n",
    "    # Add the last chunk if it's not empty\n",
    "    if current_chunk:\n",
    "        chunks.append(current_chunk)\n",
    "\n",
    "    return chunks"
   ]
  },
  {
   "cell_type": "code",
   "execution_count": null,
   "id": "e47f1ba2",
   "metadata": {},
   "outputs": [],
   "source": [
    "# Function Usage\n",
    "# chunks = split_text(cleaned_text) # use this if you have cleaned the text, else use the next line.\n",
    "chunks = split_text(plain_text)\n",
    "\n",
    "# Printing each chunk with its number\n",
    "for i, chunk in enumerate(chunks, 1):\n",
    "    print(f\"Chunk {i}:\\n{chunk}\\n---\\n\")\n"
   ]
  },
  {
   "cell_type": "markdown",
   "id": "8a346744",
   "metadata": {},
   "source": [
    "### Text-to-Speech Conversion\n",
    "\n",
    "This cell contains the `text_to_speech` function, which utilizes OpenAI's text-to-speech API to convert text into audio. The function performs the following steps:\n",
    "\n",
    "1. Initializes an OpenAI client to interact with the API.\n",
    "2. Sends a request to the Audio API with the specified text, model, and voice parameters. The `model` parameter defines the quality of the text-to-speech conversion, while the `voice` parameter selects the voice type.\n",
    "3. Receives the audio response from the API and streams it to a specified output file.\n",
    "\n",
    "The function takes `input_text` (the text to be converted), `output_file` (the path to save the audio file), and optional parameters for `model` and `voice`. After executing, it saves the audio file to the specified path and prints a confirmation message.\n",
    "\n",
    "This function is key in converting the previously segmented text chunks into individual audio files, ready for any further processing or direct usage.\n"
   ]
  },
  {
   "cell_type": "code",
   "execution_count": null,
   "id": "62757310",
   "metadata": {},
   "outputs": [],
   "source": [
    "# Importing necessary modules\n",
    "from pathlib import Path\n",
    "import openai\n",
    "\n",
    "def text_to_speech(input_text, output_file, model=\"tts-1-hd\", voice=\"nova\"):\n",
    "    # Initialize the OpenAI client\n",
    "    client = openai.OpenAI()\n",
    "\n",
    "    # Make a request to OpenAI's Audio API with the given text, model, and voice\n",
    "    response = client.audio.speech.create(\n",
    "        model=model,      # Model for text-to-speech quality\n",
    "        voice=voice,      # Voice type\n",
    "        input=input_text  # The text to be converted into speech\n",
    "    )\n",
    "\n",
    "    # Define the path for the output audio file\n",
    "    speech_file_path = Path(output_file)\n",
    "\n",
    "    # Stream the audio response to the specified file\n",
    "    response.stream_to_file(speech_file_path)\n",
    "\n",
    "    # Print confirmation message after saving the audio file\n",
    "    print(f\"Audio saved to {speech_file_path}\")\n"
   ]
  },
  {
   "cell_type": "markdown",
   "id": "afd45ebd",
   "metadata": {},
   "source": [
    "### Converting Text Chunks to Audio Files\n",
    "\n",
    "In this cell, we define the `convert_chunks_to_audio` function, which processes each text chunk through the `text_to_speech` function and saves the resulting audio files. The steps are as follows:\n",
    "\n",
    "1. Iterate over the chunks of text.\n",
    "2. For each chunk, create a filename for the output audio file, ensuring it is saved in the specified output folder.\n",
    "3. Convert each text chunk to an audio file using the `text_to_speech` function defined earlier.\n",
    "4. Store the path of each generated audio file in a list.\n",
    "\n",
    "The function takes two arguments: `chunks`, which is a list of text segments, and `output_folder`, the directory where the audio files should be saved. After processing, it returns a list of file paths for the generated audio files. This is particularly useful for handling multiple audio files corresponding to different sections of the original PDF.\n",
    "\n",
    "An example usage is shown at the end of the cell, where the function is called with the text chunks and a specified output folder, resulting in the creation of separate audio files for each text chunk.\n"
   ]
  },
  {
   "cell_type": "code",
   "execution_count": null,
   "id": "ac2778f5",
   "metadata": {},
   "outputs": [],
   "source": [
    "# Importing necessary modules\n",
    "import os\n",
    "from pydub import AudioSegment\n",
    "\n",
    "def convert_chunks_to_audio(chunks, output_folder):\n",
    "    audio_files = []  # List to store the paths of generated audio files\n",
    "\n",
    "    # Iterate over each chunk of text\n",
    "    for i, chunk in enumerate(chunks):\n",
    "        # Define the path for the output audio file\n",
    "        output_file = os.path.join(output_folder, f\"chunk_{i+1}.mp3\")\n",
    "\n",
    "        # Convert the text chunk to speech and save as an audio file\n",
    "        text_to_speech(chunk, output_file)\n",
    "\n",
    "        # Append the path of the created audio file to the list\n",
    "        audio_files.append(output_file)\n",
    "\n",
    "    return audio_files  # Return the list of audio file paths"
   ]
  },
  {
   "cell_type": "code",
   "execution_count": null,
   "id": "4b0e6d71",
   "metadata": {},
   "outputs": [],
   "source": [
    "# Function Usage\n",
    "output_folder = \"chunks\"  # Define the folder to save audio chunks\n",
    "audio_files = convert_chunks_to_audio(chunks, output_folder)  # Convert chunks to audio files\n",
    "print(audio_files) # print list of all the audio files generated"
   ]
  },
  {
   "cell_type": "markdown",
   "id": "36843a94",
   "metadata": {},
   "source": [
    "### Combining Individual Audio Clips into a Single File\n",
    "\n",
    "This cell contains the `combine_audio_with_moviepy` function, which combines multiple audio clips into a single audio file using the `moviepy` library. The function follows these steps:\n",
    "\n",
    "1. Iterate through the files in the specified folder, filtering for `.mp3` files.\n",
    "2. For each audio file, create an `AudioFileClip` object and add it to a list.\n",
    "3. Once all audio clips are collected, use `concatenate_audioclips` to merge them into a single continuous audio clip.\n",
    "4. Write the combined clip to an output file.\n",
    "\n",
    "This function is particularly useful for creating a single audio file from multiple smaller files, which is a common requirement when the original text is split into chunks for text-to-speech conversion. If any errors occur during the processing of individual files, they are caught and printed.\n",
    "\n",
    "An example usage is shown at the end of the cell, demonstrating how to combine the audio files from a specified folder into a single output file.\n"
   ]
  },
  {
   "cell_type": "code",
   "execution_count": null,
   "id": "4ca6beb9",
   "metadata": {},
   "outputs": [],
   "source": [
    "# Importing necessary modules from moviepy\n",
    "from moviepy.editor import concatenate_audioclips, AudioFileClip\n",
    "import os\n",
    "\n",
    "def combine_audio_with_moviepy(folder_path, output_file):\n",
    "    audio_clips = []  # List to store the audio clips\n",
    "\n",
    "    # Iterate through each file in the given folder\n",
    "    for file_name in sorted(os.listdir(folder_path)):\n",
    "        if file_name.endswith('.mp3'):\n",
    "            # Construct the full path of the audio file\n",
    "            file_path = os.path.join(folder_path, file_name)\n",
    "            print(f\"Processing file: {file_path}\")\n",
    "\n",
    "            try:\n",
    "                # Create an AudioFileClip object for each audio file\n",
    "                clip = AudioFileClip(file_path)\n",
    "                audio_clips.append(clip)  # Add the clip to the list\n",
    "            except Exception as e:\n",
    "                # Print any errors encountered while processing the file\n",
    "                print(f\"Error processing file {file_path}: {e}\")\n",
    "\n",
    "    # Check if there are any audio clips to combine\n",
    "    if audio_clips:\n",
    "        # Concatenate all the audio clips into a single clip\n",
    "        final_clip = concatenate_audioclips(audio_clips)\n",
    "        # Write the combined clip to the specified output file\n",
    "        final_clip.write_audiofile(output_file)\n",
    "        print(f\"Combined audio saved to {output_file}\")\n",
    "    else:\n",
    "        print(\"No audio clips to combine.\")"
   ]
  },
  {
   "cell_type": "code",
   "execution_count": null,
   "id": "7524c114",
   "metadata": {},
   "outputs": [],
   "source": [
    "# Function Usage\n",
    "combine_audio_with_moviepy('chunks', 'combined_audio.mp3')  # Combine audio files in 'chunks' folder\n"
   ]
  },
  {
   "cell_type": "markdown",
   "id": "c313094e",
   "metadata": {},
   "source": [
    "### (Optional) Creating an MP4 File with Image and Audio\n",
    "\n",
    "This cell introduces the `create_mp4_with_image_and_audio` function, which combines an image and an audio file to create an MP4 video. This can be particularly useful for presentations or other scenarios where an audio track needs to be accompanied by a static image. The function performs the following steps:\n",
    "\n",
    "1. Load the audio file as an `AudioFileClip`.\n",
    "2. Create a video clip from the specified image using `ImageClip`, setting its duration to match the length of the audio.\n",
    "3. Set the frames per second (fps) for the video clip.\n",
    "4. Assign the audio clip as the audio track of the video clip.\n",
    "5. Write the final video clip to an output file, specifying the video and audio codecs.\n",
    "\n",
    "The function takes paths for an image file, an audio file, and an output file, along with an optional fps parameter (defaulted to 24). An example usage is provided at the end of the cell, demonstrating how to generate an MP4 file using a given image and a combined audio file.\n"
   ]
  },
  {
   "cell_type": "code",
   "execution_count": null,
   "id": "41fd896c",
   "metadata": {},
   "outputs": [],
   "source": [
    "from moviepy.editor import AudioFileClip, ImageClip\n",
    "\n",
    "def create_mp4_with_image_and_audio(image_file, audio_file, output_file, fps=24):\n",
    "    # Load the audio file\n",
    "    audio_clip = AudioFileClip(audio_file)\n",
    "\n",
    "    # Create a video clip from an image\n",
    "    video_clip = ImageClip(image_file, duration=audio_clip.duration)\n",
    "\n",
    "    # Set the fps for the video clip\n",
    "    video_clip = video_clip.set_fps(fps)\n",
    "\n",
    "    # Set the audio of the video clip as the audio clip\n",
    "    video_clip = video_clip.set_audio(audio_clip)\n",
    "\n",
    "    # Write the result to a file\n",
    "    video_clip.write_videofile(output_file, codec='libx264', audio_codec='aac')\n",
    "\n",
    "# Example usage\n",
    "image_file = 'cover_image.png'  # Replace with the path to your image\n",
    "audio_file = 'combined_audio.mp3'      # The combined audio file\n",
    "output_file = 'output_video.mp4'       # Output MP4 file\n",
    "create_mp4_with_image_and_audio(image_file, audio_file, output_file)\n"
   ]
  }
 ],
 "metadata": {
  "kernelspec": {
   "display_name": "Python 3 (ipykernel)",
   "language": "python",
   "name": "python3"
  },
  "language_info": {
   "codemirror_mode": {
    "name": "ipython",
    "version": 3
   },
   "file_extension": ".py",
   "mimetype": "text/x-python",
   "name": "python",
   "nbconvert_exporter": "python",
   "pygments_lexer": "ipython3",
   "version": "3.11.4"
  }
 },
 "nbformat": 4,
 "nbformat_minor": 5
}
