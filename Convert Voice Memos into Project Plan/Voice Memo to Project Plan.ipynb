{
 "cells": [
  {
   "cell_type": "markdown",
   "id": "15378d14",
   "metadata": {},
   "source": [
    "# Convert Voice Memos into Project Plan\n",
    "The following code accepts voice memos as input and turn them into project plans."
   ]
  },
  {
   "cell_type": "markdown",
   "id": "7dafb0d8",
   "metadata": {},
   "source": [
    "### Import necessary libraries\n",
    "If you do not have these installed then you can install them using `pip install` command"
   ]
  },
  {
   "cell_type": "code",
   "execution_count": null,
   "id": "e391aca7",
   "metadata": {},
   "outputs": [],
   "source": [
    "import openai\n",
    "import os\n",
    "import shutil\n",
    "import glob\n",
    "import json\n",
    "from datetime import datetime"
   ]
  },
  {
   "cell_type": "markdown",
   "id": "27cd66e2",
   "metadata": {},
   "source": [
    "### Get a list of all the mp4 files to process\n",
    "Let's start by getting list of all the audio files.\n",
    "File uploads are currently limited to 25MB and the following input file types are supported: mp3, mp4, mpeg, mpga, m4a, wav, and webm.\n",
    "If the filesize is greather than 25MB then the file will be ignored."
   ]
  },
  {
   "cell_type": "code",
   "execution_count": null,
   "id": "cb245fd6",
   "metadata": {},
   "outputs": [],
   "source": [
    "import os\n",
    "import glob\n",
    "\n",
    "folder_path = \"voice memos\"  # Replace with the path to your \"voice memos\" folder\n",
    "\n",
    "# Define a list of accepted file extensions\n",
    "accepted_formats = [\"mp3\", \"mp4\", \"mpeg\", \"mpga\", \"m4a\", \"wav\", \"webm\"]\n",
    "\n",
    "# Use glob to find all files with the accepted extensions in the folder\n",
    "audio_files = []\n",
    "for accepted_format in accepted_formats:\n",
    "    pattern = os.path.join(folder_path, f\"*.{accepted_format}\")\n",
    "    audio_files.extend(glob.glob(pattern))\n",
    "\n",
    "# Print the list of matching file paths\n",
    "for audio_file in audio_files:\n",
    "    file_size = os.path.getsize(audio_file)\n",
    "    # Check if the file size is greater than 25MB (25 * 1024 * 1024 bytes)\n",
    "    if file_size > 25 * 1024 * 1024:\n",
    "        print(f\"File {audio_file} is larger than 25MB and will be ignored.\")\n",
    "        audio_files.remove(audio_file)\n",
    "    else:\n",
    "        print(audio_file)\n",
    "        print(audio_files)"
   ]
  },
  {
   "cell_type": "markdown",
   "id": "9cc8bde9",
   "metadata": {},
   "source": [
    "### Get audio transcripts\n",
    "Get transcipt from the audio files using whisper API"
   ]
  },
  {
   "cell_type": "code",
   "execution_count": null,
   "id": "85f2964a",
   "metadata": {
    "scrolled": false
   },
   "outputs": [],
   "source": [
    "# Function to transcribe audio files\n",
    "def transcribe_audio_files(audio_files):\n",
    "    transcripts = []\n",
    "    for audio_file in audio_files:\n",
    "        # Construct the full path to the audio file\n",
    "        audio_path = audio_file\n",
    "\n",
    "        # Read the audio file as binary\n",
    "        with open(audio_path, \"rb\") as audio_:\n",
    "            try:\n",
    "                # Transcribe the audio using OpenAI\n",
    "                print(f\"Transcibing {audio_file}\")\n",
    "                transcript = openai.Audio.transcribe(\"whisper-1\", audio_)\n",
    "                transcripts.append(transcript)\n",
    "                print(f\"Transcibtion Complete for {audio_file}\")\n",
    "            except Exception as e:\n",
    "                transcripts.append(f\"Transcription error: {str(e)}\")\n",
    "\n",
    "    return transcripts\n",
    "\n",
    "# Get transcripts for the list of audio files\n",
    "transcripts = transcribe_audio_files(audio_files)\n",
    "\n",
    "# Print the transcripts\n",
    "for i, transcript in enumerate(transcripts):\n",
    "    print(f\"Transcript {i + 1}:\")\n",
    "    print(transcript)\n",
    "    print(\"\\n\")\n",
    "\n",
    "# You can also save the transcripts to a file or perform further processing as needed\n"
   ]
  },
  {
   "cell_type": "markdown",
   "id": "e7d14010",
   "metadata": {},
   "source": [
    "### Prompt to convert voice memo to project plan\n",
    "Helper function to create prompt to convert transcript to a project plan"
   ]
  },
  {
   "cell_type": "code",
   "execution_count": null,
   "id": "93b4421d",
   "metadata": {},
   "outputs": [],
   "source": [
    "def create_prompt_for_transcript(transcript):\n",
    "    prompt = f\"\"\"Convert the following memo transcript, which is delimited by ``` in the variable 'memo_transcript', \\\n",
    "    into a detailed project plan. The project plan should include the following elements:\n",
    "    \n",
    "    1. Project Title: [Provide a suitable project title]\n",
    "    2. Project Objective: [Clearly state the project's objective]\n",
    "    3. Project Scope: [Define the scope of the project]\n",
    "    4. Deliverables: [List all the project deliverables]\n",
    "    5. Milestones: [Identify key project milestones and their timelines]\n",
    "    6. Resources: [Specify the required resources, including personnel, equipment, and budget]\n",
    "    7. Tasks and Activities: [Break down the project into individual tasks and activities]\n",
    "    8. Dependencies: [Identify task dependencies and relationships]\n",
    "    9. Timeline: [Create a project timeline or schedule]\n",
    "    10. Risks and Mitigations: [List potential risks and their mitigation strategies]\n",
    "    11. Communication Plan: [Outline how project stakeholders will be informed and involved]\n",
    "    \n",
    "    Please ensure that the resulting project plan is well-structured, organized, and comprehensive. You may need to \\\n",
    "    summarize and reformat the information from the memo transcript to create a clear and actionable project plan.\n",
    "    \n",
    "    memo_transcript:\n",
    "    ```\n",
    "    {transcript}\n",
    "    ```\n",
    "    \"\"\"\n",
    "    \n",
    "    return prompt"
   ]
  },
  {
   "cell_type": "markdown",
   "id": "6c287b5d",
   "metadata": {},
   "source": [
    "### Convert transcripts into project plans\n",
    "Run through the transcipts and create project plans by calling OpenAI Completion API"
   ]
  },
  {
   "cell_type": "code",
   "execution_count": null,
   "id": "cb51604e",
   "metadata": {
    "scrolled": false
   },
   "outputs": [],
   "source": [
    "# Initialize the list to store responses\n",
    "responses = []\n",
    "i = 0\n",
    "# Loop through the transcripts and call OpenAI API\n",
    "for transcript in transcripts:\n",
    "    i += 1\n",
    "    print(f\"Creating project plan for Transcript {i}\")\n",
    "    response = openai.ChatCompletion.create(\n",
    "        model=\"gpt-3.5-turbo\",\n",
    "        temperature=0,\n",
    "        messages=[\n",
    "            {\"role\": \"user\", \"content\": create_prompt_for_transcript(transcript)}\n",
    "        ]\n",
    "    )['choices'][0]['message']['content']\n",
    "    \n",
    "    print(f\"Project Plan for Transcript {i}: \\n{response}\")\n",
    "    \n",
    "    responses.append(response)\n",
    "\n",
    "# Now, the 'responses' list contains the completions for each transcript\n",
    "print(responses)"
   ]
  },
  {
   "cell_type": "markdown",
   "id": "825ade35",
   "metadata": {},
   "source": [
    "### Append the extracted data to json file stored on hard drive\n",
    "This function stores transcript and project plan in a json file for future use."
   ]
  },
  {
   "cell_type": "code",
   "execution_count": null,
   "id": "c53b4e82",
   "metadata": {},
   "outputs": [],
   "source": [
    "# Extract just the file names without the directory path\n",
    "file_names = [os.path.basename(file) for file in audio_files]\n",
    "\n",
    "print(file_names)\n",
    "\n",
    "# Create a list of dictionaries with transcript, file name, and response\n",
    "result_list = []\n",
    "current_time = datetime.now().isoformat()\n",
    "\n",
    "for transcript, file_name, response in zip(transcripts, file_names, responses):\n",
    "    result = {\n",
    "        \"transcript\": transcript,\n",
    "        \"file_name\": file_name,\n",
    "        \"response\": response,\n",
    "        \"time\": current_time\n",
    "    }\n",
    "    result_list.append(result)\n",
    "\n",
    "# Append the data to the projects.json file\n",
    "output_filename = \"projects.json\"\n",
    "\n",
    "# Check if the file exists\n",
    "if os.path.exists(output_filename):\n",
    "    with open(output_filename, \"r\") as file:\n",
    "        existing_data = json.load(file)\n",
    "else:\n",
    "    existing_data = []\n",
    "\n",
    "existing_data.extend(result_list)\n",
    "\n",
    "# Write the combined data to the projects.json file\n",
    "with open(output_filename, \"w\") as file:\n",
    "    json.dump(existing_data, file, indent=4)\n",
    "\n",
    "print(f\"Data appended to {output_filename}\")\n"
   ]
  },
  {
   "cell_type": "markdown",
   "id": "f935938b",
   "metadata": {},
   "source": [
    "### Move the files in the list audio_file from the voice memo folder to processed.\n",
    "Remove the processed file from the working folder (voice memo) to processed."
   ]
  },
  {
   "cell_type": "code",
   "execution_count": null,
   "id": "df145a0b",
   "metadata": {},
   "outputs": [],
   "source": [
    "# Destination directory\n",
    "destination_dir = \"processed\"\n",
    "\n",
    "# Ensure the destination directory exists, create it if it doesn't\n",
    "if not os.path.exists(destination_dir):\n",
    "    os.makedirs(destination_dir)\n",
    "\n",
    "# Loop through the list of MP4 files and move them to the processed folder\n",
    "for file in audio_files:\n",
    "    source_path = file\n",
    "    destination_path = os.path.join(destination_dir, os.path.basename(file))\n",
    "\n",
    "    # Check if the file exists in the source directory before moving\n",
    "    if os.path.exists(source_path):\n",
    "        shutil.move(source_path, destination_path)\n",
    "        print(f\"Moved {file} to {destination_dir}\")\n",
    "    else:\n",
    "        print(f\"File {file} does not exist in the source directory\")\n",
    "\n",
    "# Remove the files in the \"voice memos\" directory\n",
    "for root, dirs, files in os.walk(\"voice memos\"):\n",
    "    for file in files:\n",
    "        file_path = os.path.join(root, file)\n",
    "        os.remove(file_path)\n"
   ]
  }
 ],
 "metadata": {
  "kernelspec": {
   "display_name": "Python 3 (ipykernel)",
   "language": "python",
   "name": "python3"
  },
  "language_info": {
   "codemirror_mode": {
    "name": "ipython",
    "version": 3
   },
   "file_extension": ".py",
   "mimetype": "text/x-python",
   "name": "python",
   "nbconvert_exporter": "python",
   "pygments_lexer": "ipython3",
   "version": "3.11.4"
  }
 },
 "nbformat": 4,
 "nbformat_minor": 5
}
