{
 "cells": [
  {
   "cell_type": "markdown",
   "id": "8a6cce25",
   "metadata": {},
   "source": [
    "### Setting Up the Environment for OpenAI Integration\n",
    "\n",
    "In this section, we are preparing our Python environment to integrate with OpenAI's services. This involves two key steps:\n",
    "\n",
    "1. **Importing the OpenAI Library**: We begin by importing `OpenAI` from the `openai` package. This library is essential for interacting with OpenAI's API, which provides access to a range of AI-powered tools and models.\n",
    "\n",
    "2. **Importing the OS Module**: Additionally, we import the `os` module, a standard Python library used for interacting with the operating system. This module will help us manage file paths, directories, and environment variables, which can be crucial for tasks like file handling and configuring API keys.\n",
    "\n",
    "By setting up these imports, we lay the groundwork for utilizing OpenAI's capabilities in our Python scripts, ensuring that we can seamlessly integrate advanced AI features into our applications."
   ]
  },
  {
   "cell_type": "code",
   "execution_count": null,
   "id": "c0ca0662",
   "metadata": {},
   "outputs": [],
   "source": [
    "from openai import OpenAI\n",
    "import os"
   ]
  },
  {
   "cell_type": "markdown",
   "id": "a8d9cf98",
   "metadata": {},
   "source": [
    "### Initializing the OpenAI Client\n",
    "\n",
    "#### Important Note on API Key Configuration:\n",
    "\n",
    "To successfully interact with OpenAI's API, an API key is required. This key acts as a secure method of authentication and allows your script to access OpenAI's services. There are two ways to provide this API key:\n",
    "\n",
    "1. **Environment Variable (Recommended)**: For security and convenience, it is recommended to set the OpenAI API key as an environment variable. This method keeps the key secure and separate from your script. If you choose this approach, the `OpenAI()` client will automatically use the API key from the environment variable.\n",
    "2. **Directly in the Code**: Alternatively, you can explicitly specify the API key in your code when creating the OpenAI client. However, this approach is less secure, especially if your code is shared or made public. If you prefer this method, you can initialize the client as follows (replace `YOUR_API_KEY` with your actual key from https://platform.openai.com/api-keys):\n",
    "\n",
    "   ```python\n",
    "   client = OpenAI(api_key='YOUR_API_KEY')\n",
    "   ```\n",
    "\n",
    "#### Caution:\n",
    "It is crucial to keep your API key confidential to prevent unauthorized usage and potential security risks. Therefore, using the environment variable method is highly recommended."
   ]
  },
  {
   "cell_type": "code",
   "execution_count": null,
   "id": "e428fc32",
   "metadata": {},
   "outputs": [],
   "source": [
    "client = OpenAI() # create OpenAI client"
   ]
  },
  {
   "cell_type": "markdown",
   "id": "62432f0b",
   "metadata": {},
   "source": [
    "### Finding and Validating Audio and Video Files in a Specified Folder\n",
    "\n",
    "The updated function `find_audio_files_in_folder` is designed to locate various types of audio and video files (specifically mp3, mp4, mpeg, mpga, m4a, wav, and webm formats) within a given folder. This function not only identifies these files but also ensures each file is within a 25MB size limit, a crucial check for maintaining manageable file sizes for processing or upload constraints."
   ]
  },
  {
   "cell_type": "code",
   "execution_count": null,
   "id": "e15ffc8e",
   "metadata": {},
   "outputs": [],
   "source": [
    "def find_audio_files_in_folder(folder, sort_ascending=True):\n",
    "    \"\"\"\n",
    "    Find all audio and video files (mp3, mp4, mpeg, mpga, m4a, wav, webm) in the specified folder,\n",
    "    without searching in subfolders, and ensure file size is less than 25MB.\n",
    "\n",
    "    :param folder: The folder path to search in.\n",
    "    :param sort_ascending: Whether to sort the filenames in ascending order.\n",
    "    :return: A list of full paths to the files in the folder, sorted as specified.\n",
    "    :raises ValueError: If any file is larger than 25MB.\n",
    "    \"\"\"\n",
    "    if not os.path.exists(folder):\n",
    "        print(f\"The folder {folder} does not exist.\")\n",
    "        return []\n",
    "\n",
    "    allowed_extensions = ('.mp3', '.mp4', '.mpeg', '.mpga', '.m4a', '.wav', '.webm')\n",
    "    files = []\n",
    "    \n",
    "    for file in os.listdir(folder):\n",
    "        if file.endswith(allowed_extensions):\n",
    "            full_path = os.path.join(folder, file)\n",
    "            file_size = os.path.getsize(full_path) / (1024 * 1024) # size in MB\n",
    "            if file_size > 25:\n",
    "                raise ValueError(f\"File uploads are currently limited to 25 MB. The file '{file}' exceeds this limit.\")\n",
    "            files.append(full_path)\n",
    "\n",
    "    # Sort the files\n",
    "    return sorted(files, reverse=not sort_ascending)\n"
   ]
  },
  {
   "cell_type": "markdown",
   "id": "c0de28f1",
   "metadata": {},
   "source": [
    "### Implementing Audio Transcription with OpenAI\n",
    "\n",
    "In this section, we introduce a function designed to leverage OpenAI's advanced transcription services. The function, transcribe_using_openai, is crafted to transcribe audio content into text form. This functionality is particularly useful for converting spoken word recordings, such as podcasts, interviews, or lectures, into a written format."
   ]
  },
  {
   "cell_type": "code",
   "execution_count": null,
   "id": "03155090",
   "metadata": {},
   "outputs": [],
   "source": [
    "def transcribe_using_openai(audio_path, model=\"whisper-1\"):\n",
    "    \"\"\"\n",
    "    Transcribe an audio file using OpenAI's transcription service.\n",
    "\n",
    "    :param audio_path: The file path of the audio file to transcribe.\n",
    "    :param model: The model to use for transcription. Default is \"whisper-1\".\n",
    "    :return: The transcribed text of the audio file.\n",
    "    \"\"\"\n",
    "    # Open the audio file in read-binary mode\n",
    "    # 'rb' mode is used because audio files are binary files\n",
    "    audio_file = open(audio_path, \"rb\")\n",
    "\n",
    "    # Use OpenAI's client to create a transcription of the audio file\n",
    "    # The 'model' parameter specifies the transcription model to use\n",
    "    # 'file' parameter takes the audio file object for processing\n",
    "    # 'response_format' is set to \"text\" to get the transcription in text format\n",
    "    transcript = client.audio.transcriptions.create(model=model, file=audio_file, response_format=\"text\")\n",
    "\n",
    "    # Return the transcription text\n",
    "    return transcript\n"
   ]
  },
  {
   "cell_type": "markdown",
   "id": "8dad4ad1",
   "metadata": {},
   "source": [
    "### Batch Transcription of Multiple Audio Files\n",
    "\n",
    "We introduce the `transcribe_audio_files` function, a tool designed to facilitate the transcription of multiple audio files using OpenAI's transcription service. This function is especially useful when dealing with a collection of audio recordings that need to be converted into text format."
   ]
  },
  {
   "cell_type": "code",
   "execution_count": null,
   "id": "561b91e0",
   "metadata": {},
   "outputs": [],
   "source": [
    "def transcribe_audio_files(audio_files, model=\"whisper-1\"):\n",
    "    \"\"\"\n",
    "    Transcribe a list of audio files using the OpenAI transcription function.\n",
    "\n",
    "    :param audio_files: List of paths to audio files.\n",
    "    :param model: The model to be used for transcription.\n",
    "    :return: List of transcripts for each audio file.\n",
    "    \"\"\"\n",
    "    transcripts = []\n",
    "    for audio_file in audio_files:\n",
    "        try:\n",
    "            transcript = transcribe_using_openai(audio_file, model)\n",
    "            transcripts.append(transcript)\n",
    "        except Exception as e:\n",
    "            print(f\"Error transcribing file {audio_file}: {e}\")\n",
    "            transcripts.append(None)  # Append None for any failed transcription\n",
    "\n",
    "    return transcripts\n"
   ]
  },
  {
   "cell_type": "markdown",
   "id": "3e1eda2d",
   "metadata": {},
   "source": [
    "### Saving Transcripts as Markdown Files\n",
    "\n",
    "The `save_transcripts_to_md` function is designed to save a list of transcripts into a specified folder as Markdown (`.md`) files. This functionality is particularly useful for organizing and storing transcribed text in a structured and readable format."
   ]
  },
  {
   "cell_type": "code",
   "execution_count": null,
   "id": "2963eeb6",
   "metadata": {},
   "outputs": [],
   "source": [
    "def save_transcripts_to_md(transcripts, folder=\"transcripts\"):\n",
    "    \"\"\"\n",
    "    Save a list of transcripts to a specified folder as .md files.\n",
    "\n",
    "    :param transcripts: List of transcript texts.\n",
    "    :param folder: The folder where the .md files will be saved.\n",
    "    \"\"\"\n",
    "    # Ensure the folder exists, create if not\n",
    "    if not os.path.exists(folder):\n",
    "        os.makedirs(folder)\n",
    "\n",
    "    # Find the starting index for naming to avoid overwriting\n",
    "    existing_files = [f for f in os.listdir(folder) if f.startswith('transcript_') and f.endswith('.md')]\n",
    "    if existing_files:\n",
    "        last_index = max(int(f.split('_')[1].split('.')[0]) for f in existing_files)\n",
    "    else:\n",
    "        last_index = 0\n",
    "\n",
    "    # Save each transcript as a .md file\n",
    "    for i, transcript in enumerate(transcripts, start=last_index + 1):\n",
    "        file_path = os.path.join(folder, f\"transcript_{i}.md\")\n",
    "        with open(file_path, 'w') as file:\n",
    "            file.write(transcript)"
   ]
  },
  {
   "cell_type": "markdown",
   "id": "df9c0748",
   "metadata": {},
   "source": [
    "---"
   ]
  },
  {
   "cell_type": "markdown",
   "id": "00b5f9a9",
   "metadata": {},
   "source": [
    "### Retrieving MP4 Files from an Audio Directory\n",
    "\n",
    "This code snippet demonstrates the use of the `find_mp4_files_in_folder` function to list `.mp4` files from a specified \"audio\" directory. The output is printed to showcase the retrieved file paths."
   ]
  },
  {
   "cell_type": "code",
   "execution_count": null,
   "id": "c208cfdc",
   "metadata": {},
   "outputs": [],
   "source": [
    "folder_containing_audio_files = \"audio\"\n",
    "files = find_audio_files_in_folder(folder_containing_audio_files)\n",
    "print(files)"
   ]
  },
  {
   "cell_type": "markdown",
   "id": "0cf335d9",
   "metadata": {},
   "source": [
    "### Transcribing Audio Files and Displaying Transcripts\n",
    "\n",
    "This section of code utilizes the `transcribe_audio_files` function to transcribe a list of audio files. The resulting transcripts are then printed, allowing us to review the textual representation of each audio file's content."
   ]
  },
  {
   "cell_type": "code",
   "execution_count": null,
   "id": "d0338703",
   "metadata": {
    "scrolled": false
   },
   "outputs": [],
   "source": [
    "transcripts = transcribe_audio_files(files)\n",
    "print(transcripts)"
   ]
  },
  {
   "cell_type": "markdown",
   "id": "b4dac04b",
   "metadata": {},
   "source": [
    "### Storing Transcripts as Markdown Files\n",
    "\n",
    "This code executes the `save_transcripts_to_md` function, which is responsible for saving the generated transcripts into Markdown (`.md`) files within a default or specified folder. This process is essential for organizing and archiving the transcribed text data."
   ]
  },
  {
   "cell_type": "code",
   "execution_count": null,
   "id": "4c5048bf",
   "metadata": {},
   "outputs": [],
   "source": [
    "save_transcripts_to_md(transcripts)"
   ]
  }
 ],
 "metadata": {
  "kernelspec": {
   "display_name": "Python 3 (ipykernel)",
   "language": "python",
   "name": "python3"
  },
  "language_info": {
   "codemirror_mode": {
    "name": "ipython",
    "version": 3
   },
   "file_extension": ".py",
   "mimetype": "text/x-python",
   "name": "python",
   "nbconvert_exporter": "python",
   "pygments_lexer": "ipython3",
   "version": "3.11.4"
  }
 },
 "nbformat": 4,
 "nbformat_minor": 5
}
